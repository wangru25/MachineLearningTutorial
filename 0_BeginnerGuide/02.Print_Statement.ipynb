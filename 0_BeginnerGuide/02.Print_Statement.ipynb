{
  "cells": [
    {
      "cell_type": "code",
      "execution_count": 1,
      "metadata": {},
      "outputs": [
        {
          "name": "stdout",
          "output_type": "stream",
          "text": [
            "Hello MTH994\n",
            "Hello MTH994 in MSU\n",
            "Hello MTH994 in MSU, 2022\n"
          ]
        }
      ],
      "source": [
        "str = 'MTH994' # string variable\n",
        "str2 = 'MSU'\n",
        "print('Hello %s' % str)\n",
        "print('Hello %s in %s' % (str, str2))\n",
        "str3 = '2022'\n",
        "print('Hello %s in %s, %s' % (str, str2, str3))"
      ]
    },
    {
      "cell_type": "markdown",
      "metadata": {},
      "source": [
        "Similarly, when using other data types\n",
        "\n",
        "    - %s -> string\n",
        "    - %d -> Integer\n",
        "    - %f -> Float\n",
        "    - %o -> Octal\n",
        "    - %x -> Hexadecimal\n",
        "    - %e -> exponential\n",
        "    \n",
        "This can be used for conversions inside the print statement itself."
      ]
    },
    {
      "cell_type": "code",
      "execution_count": 2,
      "metadata": {
        "trusted": true
      },
      "outputs": [
        {
          "name": "stdout",
          "output_type": "stream",
          "text": [
            "<class 'float'>\n",
            "Integer number = 20\n",
            "Float = 20.50\n",
            "Exponetial = 2.050000e+01\n"
          ]
        }
      ],
      "source": [
        "a = 20.5\n",
        "print(type(a))\n",
        "print(\"Integer number = %d\" % a) # wrong value of a\n",
        "print(\"Float = %f\" % a) # not in a nice format\n",
        "print(\"Exponetial = %e\" % a)"
      ]
    },
    {
      "cell_type": "markdown",
      "metadata": {},
      "source": [
        "# PrecisionWidth and FieldWidth"
      ]
    },
    {
      "cell_type": "code",
      "execution_count": 3,
      "metadata": {
        "trusted": true
      },
      "outputs": [
        {
          "name": "stdout",
          "output_type": "stream",
          "text": [
            "3.141592653589793\n",
            "<class 'float'>\n"
          ]
        }
      ],
      "source": [
        "import math # use import to load math library\n",
        "a = math.pi # load pi value\n",
        "print(a)\n",
        "print(type(a))"
      ]
    },
    {
      "cell_type": "code",
      "execution_count": 4,
      "metadata": {
        "trusted": true
      },
      "outputs": [
        {
          "name": "stdout",
          "output_type": "stream",
          "text": [
            "3.141593\n",
            "3.142\n",
            "3.1415926536\n",
            "3.14159265358979311600\n"
          ]
        }
      ],
      "source": [
        "print('%f' % a)\n",
        "print('%.3f' % a)\n",
        "print('%.10f' % a)\n",
        "print('%.20f' % a)"
      ]
    },
    {
      "cell_type": "code",
      "execution_count": 5,
      "metadata": {
        "trusted": true
      },
      "outputs": [
        {
          "name": "stdout",
          "output_type": "stream",
          "text": [
            "3.14159265358979311600\n"
          ]
        }
      ],
      "source": [
        "print('%.20f' % a)"
      ]
    }
  ],
  "metadata": {
    "interpreter": {
      "hash": "522fa9e8171c73fbbe633caa75b0e8f9dc4f493721bf7a4894a896b71968a2a6"
    },
    "kernelspec": {
      "display_name": "Python 3.6",
      "language": "python",
      "name": "python3"
    },
    "language_info": {
      "codemirror_mode": {
        "name": "ipython",
        "version": 3
      },
      "file_extension": ".py",
      "mimetype": "text/x-python",
      "name": "python",
      "nbconvert_exporter": "python",
      "pygments_lexer": "ipython3",
      "version": "3.8.8"
    }
  },
  "nbformat": 4,
  "nbformat_minor": 1
}
