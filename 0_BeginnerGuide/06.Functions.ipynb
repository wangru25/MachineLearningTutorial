{
  "cells": [
    {
      "cell_type": "markdown",
      "metadata": {},
      "source": [
        "ref https://github.com/rajathkumarmp/Python-Lectures"
      ]
    },
    {
      "cell_type": "markdown",
      "metadata": {},
      "source": [
        "# Functions"
      ]
    },
    {
      "cell_type": "markdown",
      "metadata": {},
      "source": [
        "Most of the times, In a algorithm the statements keep repeating and it will be a tedious job to execute the same statements again and again and will consume a lot of memory and is not efficient. Enter Functions."
      ]
    },
    {
      "cell_type": "markdown",
      "metadata": {},
      "source": [
        "This is the basic syntax of a function"
      ]
    },
    {
      "cell_type": "markdown",
      "metadata": {},
      "source": [
        "def funcname(arg1, arg2,... argN):\n",
        "    \n",
        "    ''' Document String'''\n",
        "\n",
        "    statements\n",
        "\n",
        "\n",
        "    return <value>"
      ]
    },
    {
      "cell_type": "markdown",
      "metadata": {},
      "source": [
        "Read the above syntax as, A function by name \"funcname\" is defined, which accepts arguements \"arg1,arg2,....argN\". The function is documented and it is '''Document String'''. The function after executing the statements returns a \"value\"."
      ]
    },
    {
      "cell_type": "code",
      "execution_count": 267,
      "metadata": {
        "trusted": true
      },
      "outputs": [],
      "source": [
        "def firstfunc(username):\n",
        "    # firstfunc: name of the function\n",
        "    # username: variable\n",
        "    print(\"Hey \" + username + '!') # ,: combine two strings\n",
        "    print(\"Hey %s !\" % username)\n",
        "    print(username + ',' ,\"How do you do?\")"
      ]
    },
    {
      "cell_type": "code",
      "execution_count": 268,
      "metadata": {
        "trusted": true
      },
      "outputs": [
        {
          "name": "stdout",
          "output_type": "stream",
          "text": [
            "Hey Andy!\n",
            "Hey Andy !\n",
            "Andy, How do you do?\n"
          ]
        }
      ],
      "source": [
        "firstfunc('Andy')"
      ]
    },
    {
      "cell_type": "markdown",
      "metadata": {},
      "source": [
        "Let us simplify this even further by defining another function **secondfunc()** which accepts the name and stores it inside a variable and then calls the **firstfunc()** from inside the function itself."
      ]
    },
    {
      "cell_type": "markdown",
      "metadata": {},
      "source": [
        "## Return Statement"
      ]
    },
    {
      "cell_type": "markdown",
      "metadata": {},
      "source": [
        "When the function results in some value and that value has to be stored in a variable or needs to be sent back or returned for further operation to the main algorithm, return statement is used."
      ]
    },
    {
      "cell_type": "code",
      "execution_count": 269,
      "metadata": {
        "trusted": true
      },
      "outputs": [],
      "source": [
        "def times(x,y):\n",
        "    z = x*y\n",
        "    return z"
      ]
    },
    {
      "cell_type": "markdown",
      "metadata": {},
      "source": [
        "The above defined **times( )** function accepts two arguements and return the variable z which contains the result of the product of the two arguements"
      ]
    },
    {
      "cell_type": "code",
      "execution_count": 270,
      "metadata": {
        "trusted": true
      },
      "outputs": [
        {
          "name": "stdout",
          "output_type": "stream",
          "text": [
            "20\n"
          ]
        }
      ],
      "source": [
        "c = times(4,5)\n",
        "print(c)"
      ]
    },
    {
      "cell_type": "markdown",
      "metadata": {},
      "source": [
        "The z value is stored in variable c and can be used for further operations."
      ]
    },
    {
      "cell_type": "markdown",
      "metadata": {},
      "source": [
        "Instead of declaring another variable the entire statement itself can be used in the return statement as shown."
      ]
    },
    {
      "cell_type": "code",
      "execution_count": 271,
      "metadata": {
        "trusted": true
      },
      "outputs": [],
      "source": [
        "def times(x,y):\n",
        "    '''This multiplies the two input arguments'''\n",
        "    return x*y"
      ]
    },
    {
      "cell_type": "code",
      "execution_count": 272,
      "metadata": {
        "trusted": true
      },
      "outputs": [
        {
          "name": "stdout",
          "output_type": "stream",
          "text": [
            "20\n"
          ]
        }
      ],
      "source": [
        "c = times(4,5)\n",
        "print(c)"
      ]
    },
    {
      "cell_type": "markdown",
      "metadata": {},
      "source": [
        "Since the **times( )** is now defined, we can document it as shown above. This document is returned whenever **times( )** function is called under **help( )** function."
      ]
    },
    {
      "cell_type": "code",
      "execution_count": 273,
      "metadata": {
        "trusted": true
      },
      "outputs": [
        {
          "name": "stdout",
          "output_type": "stream",
          "text": [
            "Help on function times in module __main__:\n",
            "\n",
            "times(x, y)\n",
            "    This multiplies the two input arguments\n",
            "\n"
          ]
        }
      ],
      "source": [
        "help(times)"
      ]
    },
    {
      "cell_type": "markdown",
      "metadata": {},
      "source": [
        "Multiple variable can also be returned, But keep in mind the order."
      ]
    },
    {
      "cell_type": "code",
      "execution_count": 274,
      "metadata": {
        "trusted": true
      },
      "outputs": [],
      "source": [
        "eglist = [10,50,30,12,6,8,100]"
      ]
    },
    {
      "cell_type": "code",
      "execution_count": 275,
      "metadata": {
        "trusted": true
      },
      "outputs": [],
      "source": [
        "def egfunc(eglist):\n",
        "    highest = max(eglist)\n",
        "    lowest = min(eglist)\n",
        "    first = eglist[0]\n",
        "    last = eglist[-1]\n",
        "    second_last =eglist[-2]\n",
        "    return highest,lowest,first,last,second_last #return many values at the same time"
      ]
    },
    {
      "cell_type": "markdown",
      "metadata": {},
      "source": [
        "If the function is just called without any variable for it to be assigned to, the result is returned inside a tuple. But if the variables are mentioned then the result is assigned to the variable in a particular order which is declared in the return statement."
      ]
    },
    {
      "cell_type": "code",
      "execution_count": 276,
      "metadata": {
        "trusted": true
      },
      "outputs": [
        {
          "data": {
            "text/plain": [
              "(100, 6, 10, 100, 8)"
            ]
          },
          "execution_count": 276,
          "metadata": {},
          "output_type": "execute_result"
        }
      ],
      "source": [
        "egfunc(eglist)"
      ]
    },
    {
      "cell_type": "code",
      "execution_count": 277,
      "metadata": {
        "trusted": true
      },
      "outputs": [
        {
          "name": "stdout",
          "output_type": "stream",
          "text": [
            "100 6 10 100 8\n"
          ]
        }
      ],
      "source": [
        "a,b,c,d,e = egfunc(eglist)\n",
        "print(a,b,c,d,e)"
      ]
    },
    {
      "cell_type": "markdown",
      "metadata": {},
      "source": [
        "## Implicit arguments"
      ]
    },
    {
      "cell_type": "markdown",
      "metadata": {},
      "source": [
        "When an argument of a function is common in majority of the cases or it is \"implicit\" this concept is used."
      ]
    },
    {
      "cell_type": "code",
      "execution_count": 278,
      "metadata": {
        "trusted": true
      },
      "outputs": [
        {
          "ename": "SyntaxError",
          "evalue": "non-default argument follows default argument (<ipython-input-278-90923cb1ab75>, line 5)",
          "output_type": "error",
          "traceback": [
            "\u001b[0;36m  File \u001b[0;32m\"<ipython-input-278-90923cb1ab75>\"\u001b[0;36m, line \u001b[0;32m5\u001b[0m\n\u001b[0;31m    def implicitadd(x=3,y):\u001b[0m\n\u001b[0m                    ^\u001b[0m\n\u001b[0;31mSyntaxError\u001b[0m\u001b[0;31m:\u001b[0m non-default argument follows default argument\n"
          ]
        }
      ],
      "source": [
        "def implicitadd(x,y=3): # the implicit argument should be at the end of the list of arguments\n",
        "    return x+y\n",
        "\n",
        "#we cannot define the following function\n",
        "def implicitadd(x=3,y):\n",
        "    return x+y"
      ]
    },
    {
      "cell_type": "markdown",
      "metadata": {},
      "source": [
        "**implicitadd( )** is a function accepts two arguments but most of the times the first argument needs to be added just by 3. Hence the second argument is assigned the value 3. Here the second argument is implicit."
      ]
    },
    {
      "cell_type": "markdown",
      "metadata": {},
      "source": [
        "Now if the second argument is not defined when calling the **implicitadd( )** function then it considered as 3."
      ]
    },
    {
      "cell_type": "code",
      "execution_count": null,
      "metadata": {
        "trusted": true
      },
      "outputs": [
        {
          "data": {
            "text/plain": [
              "7"
            ]
          },
          "execution_count": 187,
          "metadata": {},
          "output_type": "execute_result"
        }
      ],
      "source": [
        "implicitadd(4) # x=4, y=3\n",
        "#4+3=7"
      ]
    },
    {
      "cell_type": "markdown",
      "metadata": {},
      "source": [
        "But if the second argument is specified then this value overrides the implicit value assigned to the argument "
      ]
    },
    {
      "cell_type": "code",
      "execution_count": null,
      "metadata": {
        "trusted": true
      },
      "outputs": [
        {
          "data": {
            "text/plain": [
              "8"
            ]
          },
          "execution_count": 188,
          "metadata": {},
          "output_type": "execute_result"
        }
      ],
      "source": [
        "implicitadd(4,4) #x=4, y=4"
      ]
    },
    {
      "cell_type": "markdown",
      "metadata": {},
      "source": [
        "## Any number of arguments"
      ]
    },
    {
      "cell_type": "markdown",
      "metadata": {},
      "source": [
        "If the number of arguments that is to be accepted by a function is not known then a asterisk symbol is used before the argument."
      ]
    },
    {
      "cell_type": "code",
      "execution_count": null,
      "metadata": {
        "trusted": true
      },
      "outputs": [],
      "source": [
        "# calculate the sum of all values in args\n",
        "def add_n(*args):\n",
        "    #res = 0\n",
        "    reslist = []\n",
        "    for i in args:\n",
        "        reslist.append(i)\n",
        "    print(reslist)\n",
        "    return sum(reslist)"
      ]
    },
    {
      "cell_type": "markdown",
      "metadata": {},
      "source": [
        "The above function accepts any number of arguments, defines a list and appends all the arguments into that list and return the sum of all the arguments."
      ]
    },
    {
      "cell_type": "code",
      "execution_count": null,
      "metadata": {
        "trusted": true
      },
      "outputs": [
        {
          "name": "stdout",
          "output_type": "stream",
          "text": [
            "[1, 2, 3, 4, 5]\n",
            "15\n",
            "[1, 2, 3, 5, 7, 10, 11]\n",
            "39\n"
          ]
        }
      ],
      "source": [
        "print(add_n(1,2,3,4,5))\n",
        "print(add_n(1,2,3,5,7,10,11))"
      ]
    },
    {
      "cell_type": "code",
      "execution_count": null,
      "metadata": {
        "trusted": true
      },
      "outputs": [
        {
          "name": "stdout",
          "output_type": "stream",
          "text": [
            "[1, 2, 3]\n"
          ]
        },
        {
          "data": {
            "text/plain": [
              "6"
            ]
          },
          "execution_count": 191,
          "metadata": {},
          "output_type": "execute_result"
        }
      ],
      "source": [
        "add_n(1,2,3)"
      ]
    },
    {
      "cell_type": "markdown",
      "metadata": {},
      "source": [
        "## Global and Local Variables"
      ]
    },
    {
      "cell_type": "markdown",
      "metadata": {},
      "source": [
        "Whatever variable is declared inside a function is local variable and outside the function in global variable."
      ]
    },
    {
      "cell_type": "code",
      "execution_count": null,
      "metadata": {
        "trusted": true
      },
      "outputs": [],
      "source": [
        "eg1 = [1,2,3,4,5]"
      ]
    },
    {
      "cell_type": "markdown",
      "metadata": {},
      "source": [
        "In the below function we are appending a element to the declared list inside the function. eg2 variable declared inside the function is a local variable."
      ]
    },
    {
      "cell_type": "code",
      "execution_count": 294,
      "metadata": {
        "trusted": true
      },
      "outputs": [],
      "source": [
        "def egfunc1():\n",
        "    def thirdfunc(arg1):\n",
        "        eg2 = arg1[:]\n",
        "        eg2.append(6)\n",
        "        print(\"This is happening inside the function :\", eg2)\n",
        "    print(\"This is happening before the function is called : \", eg1)\n",
        "    thirdfunc(eg1)\n",
        "    print(\"This is happening outside the function :\", eg1)\n",
        "    print(\"Accessing a variable declared inside the function from outside :\" , eg2)"
      ]
    },
    {
      "cell_type": "code",
      "execution_count": 295,
      "metadata": {
        "trusted": true
      },
      "outputs": [
        {
          "name": "stdout",
          "output_type": "stream",
          "text": [
            "[10, 10, 10, 10, 10, 10, 10, 10, 10]\n",
            "This is happening before the function is called :  [1, 2, 3, 4, 5]\n",
            "=========== [1, 2, 3, 4, 5]\n",
            "This is happening inside the function : [1, 2, 3, 4, 5, 6]\n",
            "This is happening outside the function : [1, 2, 3, 4, 5]\n",
            "[10, 10, 10, 10, 10, 10, 10, 10, 10]\n",
            "Accessing a variable declared inside the function from outside : [10, 10, 10, 10, 10, 10, 10, 10, 10]\n"
          ]
        }
      ],
      "source": [
        "egfunc1()"
      ]
    },
    {
      "cell_type": "markdown",
      "metadata": {},
      "source": [
        "If a **global** variable is defined as shown in the example below then that variable can be called from anywhere."
      ]
    },
    {
      "cell_type": "code",
      "execution_count": 296,
      "metadata": {
        "trusted": false
      },
      "outputs": [],
      "source": [
        "eg3 = [1,2,3,4,5]"
      ]
    },
    {
      "cell_type": "code",
      "execution_count": 297,
      "metadata": {
        "trusted": true
      },
      "outputs": [],
      "source": [
        "def egfunc1():\n",
        "    def thirdfunc(arg1):\n",
        "        global eg2\n",
        "        eg2 = arg1[:]\n",
        "        eg2.append(6)\n",
        "        print(\"This is happening inside the function :\", eg2) \n",
        "    print(\"This is happening before the function is called : \", eg1)\n",
        "    thirdfunc(eg1)\n",
        "    print(\"This is happening outside the function :\", eg1)   \n",
        "    print(\"Accessing a variable declared inside the function from outside :\" , eg2)"
      ]
    },
    {
      "cell_type": "code",
      "execution_count": 298,
      "metadata": {
        "trusted": true
      },
      "outputs": [
        {
          "name": "stdout",
          "output_type": "stream",
          "text": [
            "This is happening before the function is called :  [1, 2, 3, 4, 5]\n",
            "This is happening inside the function : [1, 2, 3, 4, 5, 6]\n",
            "This is happening outside the function : [1, 2, 3, 4, 5]\n",
            "Accessing a variable declared inside the function from outside : [1, 2, 3, 4, 5, 6]\n"
          ]
        }
      ],
      "source": [
        "egfunc1()"
      ]
    },
    {
      "cell_type": "markdown",
      "metadata": {},
      "source": [
        "## Lambda Functions"
      ]
    },
    {
      "cell_type": "markdown",
      "metadata": {},
      "source": [
        "These are small functions which are not defined with any name and carry a single expression whose result is returned. Lambda functions comes very handy when operating with lists. These function are defined by the keyword **lambda** followed by the variables, a colon and the respective expression."
      ]
    },
    {
      "cell_type": "code",
      "execution_count": 299,
      "metadata": {
        "trusted": true
      },
      "outputs": [],
      "source": [
        "z = lambda x: x * x"
      ]
    },
    {
      "cell_type": "code",
      "execution_count": 300,
      "metadata": {
        "trusted": true
      },
      "outputs": [
        {
          "data": {
            "text/plain": [
              "64"
            ]
          },
          "execution_count": 300,
          "metadata": {},
          "output_type": "execute_result"
        }
      ],
      "source": [
        "z(8)"
      ]
    },
    {
      "cell_type": "markdown",
      "metadata": {},
      "source": [
        "### map"
      ]
    },
    {
      "cell_type": "markdown",
      "metadata": {},
      "source": [
        "**map( )** function basically executes the function that is defined to each of the list's element separately."
      ]
    },
    {
      "cell_type": "code",
      "execution_count": 301,
      "metadata": {
        "trusted": true
      },
      "outputs": [],
      "source": [
        "list1 = [1,2,3,4,5,6,7,8,9]"
      ]
    },
    {
      "cell_type": "code",
      "execution_count": 302,
      "metadata": {
        "trusted": true
      },
      "outputs": [
        {
          "name": "stdout",
          "output_type": "stream",
          "text": [
            "[3, 4, 5, 6, 7, 8, 9, 10, 11]\n"
          ]
        }
      ],
      "source": [
        "eg = map(lambda x:x+2, list1)\n",
        "eg = list(eg)\n",
        "print(eg)"
      ]
    },
    {
      "cell_type": "markdown",
      "metadata": {},
      "source": [
        "You can also add two lists."
      ]
    },
    {
      "cell_type": "code",
      "execution_count": 303,
      "metadata": {
        "trusted": true
      },
      "outputs": [],
      "source": [
        "list2 = [9,8,7,6,5,4,3,2,1]"
      ]
    },
    {
      "cell_type": "code",
      "execution_count": 304,
      "metadata": {
        "trusted": true
      },
      "outputs": [
        {
          "name": "stdout",
          "output_type": "stream",
          "text": [
            "<class 'map'>\n",
            "[10, 10, 10, 10, 10, 10, 10, 10, 10]\n"
          ]
        }
      ],
      "source": [
        "eg2 = map(lambda x,y:x+y, list1,list2)\n",
        "print(type(eg2))\n",
        "eg2 = list(eg2)\n",
        "print(eg2)"
      ]
    },
    {
      "cell_type": "markdown",
      "metadata": {},
      "source": [
        "Not only lambda function but also other built in functions can also be used."
      ]
    },
    {
      "cell_type": "code",
      "execution_count": 305,
      "metadata": {
        "trusted": true
      },
      "outputs": [
        {
          "name": "stdout",
          "output_type": "stream",
          "text": [
            "['10', '10', '10', '10', '10', '10', '10', '10', '10']\n"
          ]
        }
      ],
      "source": [
        "eg3 = map(str,eg2)\n",
        "eg3 = list(eg3)\n",
        "print(eg3)"
      ]
    },
    {
      "cell_type": "markdown",
      "metadata": {},
      "source": [
        "### filter"
      ]
    },
    {
      "cell_type": "markdown",
      "metadata": {},
      "source": [
        "**filter( )** function is used to filter out the values in a list. Note that **filter()** function returns the result in a new list."
      ]
    },
    {
      "cell_type": "code",
      "execution_count": 306,
      "metadata": {
        "trusted": true
      },
      "outputs": [],
      "source": [
        "list1 = [1,2,3,4,5,6,7,8,9]"
      ]
    },
    {
      "cell_type": "markdown",
      "metadata": {},
      "source": [
        "To get the elements which are less than 5,"
      ]
    },
    {
      "cell_type": "code",
      "execution_count": 307,
      "metadata": {
        "trusted": true
      },
      "outputs": [
        {
          "name": "stdout",
          "output_type": "stream",
          "text": [
            "[1, 2, 3, 4]\n"
          ]
        }
      ],
      "source": [
        "list1_new = list(filter(lambda x:x<5,list1))\n",
        "print(list1_new)"
      ]
    },
    {
      "cell_type": "markdown",
      "metadata": {},
      "source": [
        "Notice what happens when **map()** is used."
      ]
    },
    {
      "cell_type": "code",
      "execution_count": 308,
      "metadata": {
        "trusted": true
      },
      "outputs": [
        {
          "name": "stdout",
          "output_type": "stream",
          "text": [
            "[True, True, True, True, False, False, False, False, False]\n"
          ]
        }
      ],
      "source": [
        "list1_new2 = list(map(lambda x:x<5, list1))\n",
        "print(list1_new2)"
      ]
    },
    {
      "cell_type": "markdown",
      "metadata": {},
      "source": [
        "We can conclude that, whatever is returned true in **map( )** function that particular element is returned when **filter( )** function is used."
      ]
    }
  ],
  "metadata": {
    "interpreter": {
      "hash": "522fa9e8171c73fbbe633caa75b0e8f9dc4f493721bf7a4894a896b71968a2a6"
    },
    "kernelspec": {
      "display_name": "Python 3.6",
      "language": "python",
      "name": "python3"
    },
    "language_info": {
      "codemirror_mode": {
        "name": "ipython",
        "version": 3
      },
      "file_extension": ".py",
      "mimetype": "text/x-python",
      "name": "python",
      "nbconvert_exporter": "python",
      "pygments_lexer": "ipython3",
      "version": "3.8.8"
    }
  },
  "nbformat": 4,
  "nbformat_minor": 1
}
