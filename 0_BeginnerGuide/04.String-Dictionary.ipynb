{
  "cells": [
    {
      "metadata": {},
      "cell_type": "markdown",
      "source": "ref:  https://github.com/rajathkumarmp/Python-Lectures"
    },
    {
      "metadata": {},
      "cell_type": "markdown",
      "source": "## Strings\n\n### list of letters"
    },
    {
      "metadata": {},
      "cell_type": "markdown",
      "source": "Strings are ordered text based data which are represented by enclosing the same in single/double/triple quotes."
    },
    {
      "metadata": {
        "trusted": true
      },
      "cell_type": "code",
      "source": "String0 = 'Weather today is beautiful'\nString1 = \"Weather today is beautiful\"\nString2 = '''Weather today\nis\nbeautiful'''",
      "execution_count": 1,
      "outputs": []
    },
    {
      "metadata": {
        "trusted": true
      },
      "cell_type": "code",
      "source": "print(String0 , type(String0))\nprint(String1, type(String1))\nprint(String2, type(String2))",
      "execution_count": 2,
      "outputs": [
        {
          "output_type": "stream",
          "text": "Weather today is beautiful <class 'str'>\nWeather today is beautiful <class 'str'>\nWeather today\nis\nbeautiful <class 'str'>\n",
          "name": "stdout"
        }
      ]
    },
    {
      "metadata": {},
      "cell_type": "markdown",
      "source": "String Indexing and Slicing are similar to Lists which was explained in detail earlier."
    },
    {
      "metadata": {
        "trusted": true
      },
      "cell_type": "code",
      "source": "print(String0[4]) # same to the list\nprint(String0[4:])",
      "execution_count": 3,
      "outputs": [
        {
          "output_type": "stream",
          "text": "h\nher today is beautiful\n",
          "name": "stdout"
        }
      ]
    },
    {
      "metadata": {},
      "cell_type": "markdown",
      "source": "### Built-in Functions"
    },
    {
      "metadata": {},
      "cell_type": "markdown",
      "source": "**find( )** function returns the index value of the given data that is to found in the string. If it is not found it returns **-1**. Remember to not confuse the returned -1 for reverse indexing value."
    },
    {
      "metadata": {
        "trusted": true
      },
      "cell_type": "code",
      "source": "#print(String0)\nprint(String0)\nprint(String0.find('day'))\nprint(String0.find('not'))",
      "execution_count": 7,
      "outputs": [
        {
          "output_type": "stream",
          "text": "Weather today is beautiful\nWeather today is beautiful\n10\n-1\n",
          "name": "stdout"
        }
      ]
    },
    {
      "metadata": {},
      "cell_type": "markdown",
      "source": "The index value returned is the index of the first element in the input data."
    },
    {
      "metadata": {
        "trusted": true
      },
      "cell_type": "code",
      "source": "print(String0[3])",
      "execution_count": null,
      "outputs": []
    },
    {
      "metadata": {},
      "cell_type": "markdown",
      "source": "One can also input **find( )** function between which index values it has to search."
    },
    {
      "metadata": {
        "trusted": true
      },
      "cell_type": "code",
      "source": "print(String0.find('a',1))\nprint(String0.find('a',5,10))",
      "execution_count": null,
      "outputs": []
    },
    {
      "metadata": {},
      "cell_type": "markdown",
      "source": "**capitalize( )** is used to capitalize the first element in the string."
    },
    {
      "metadata": {
        "trusted": true
      },
      "cell_type": "code",
      "source": "String3 = 'observe the first letter in this sentence.'\nprint(String3.capitalize())",
      "execution_count": 8,
      "outputs": [
        {
          "output_type": "stream",
          "text": "Observe the first letter in this sentence.\n",
          "name": "stdout"
        }
      ]
    },
    {
      "metadata": {},
      "cell_type": "markdown",
      "source": "**center( )** is used to center align the string by specifying the field width."
    },
    {
      "metadata": {
        "trusted": true
      },
      "cell_type": "code",
      "source": "String0.center(70)",
      "execution_count": null,
      "outputs": []
    },
    {
      "metadata": {},
      "cell_type": "markdown",
      "source": "One can also fill the left out spaces with any other character."
    },
    {
      "metadata": {
        "trusted": true
      },
      "cell_type": "code",
      "source": "String0.center(70,'-')",
      "execution_count": null,
      "outputs": []
    },
    {
      "metadata": {},
      "cell_type": "markdown",
      "source": "**zfill( )** is used for zero padding by specifying the field width."
    },
    {
      "metadata": {
        "trusted": true
      },
      "cell_type": "code",
      "source": "String0.zfill(30)",
      "execution_count": null,
      "outputs": []
    },
    {
      "metadata": {},
      "cell_type": "markdown",
      "source": "**expandtabs( )** allows you to change the spacing of the tab character. '\\t' which is by default set to 8 spaces."
    },
    {
      "metadata": {
        "trusted": true
      },
      "cell_type": "code",
      "source": "s = 'h\\te\\tl\\tl\\to'\nprint(s)\nprint(s.expandtabs(1))\nprint(s.expandtabs())",
      "execution_count": null,
      "outputs": []
    },
    {
      "metadata": {
        "collapsed": true
      },
      "cell_type": "markdown",
      "source": "**index( )** works the same way as **find( )** function the only difference is find returns '-1' when the input element is not found in the string but **index( )** function throws a ValueError"
    },
    {
      "metadata": {
        "trusted": true
      },
      "cell_type": "code",
      "source": "print(String0.index('Wea'))\nprint(String0.index('Weat',0))\nprint(String0.index('Weathe',10,20))",
      "execution_count": null,
      "outputs": []
    },
    {
      "metadata": {},
      "cell_type": "markdown",
      "source": "**join( )** function is used add a char in between the elements of the input string."
    },
    {
      "metadata": {
        "trusted": true
      },
      "cell_type": "code",
      "source": "'a'.join('*1-2')",
      "execution_count": 9,
      "outputs": [
        {
          "output_type": "execute_result",
          "execution_count": 9,
          "data": {
            "text/plain": "'*a1a-a2'"
          },
          "metadata": {}
        }
      ]
    },
    {
      "metadata": {},
      "cell_type": "markdown",
      "source": "'*_-' is the input string and char 'a' is added in between each element"
    },
    {
      "metadata": {},
      "cell_type": "markdown",
      "source": "**join( )** function can also be used to convert a list into a string."
    },
    {
      "metadata": {
        "trusted": true
      },
      "cell_type": "code",
      "source": "a = list(String0)\nprint(a)\nb = ''.join(a)\nprint(b)",
      "execution_count": null,
      "outputs": []
    },
    {
      "metadata": {},
      "cell_type": "markdown",
      "source": "Before converting it into a string **join( )** function can be used to insert any char in between the list elements."
    },
    {
      "metadata": {
        "trusted": true
      },
      "cell_type": "code",
      "source": "c = '/'.join(a)\nprint(c)",
      "execution_count": null,
      "outputs": []
    },
    {
      "metadata": {},
      "cell_type": "markdown",
      "source": "**split( )** function is used to convert a string back to a list. Think of it as the opposite of the **join()** function."
    },
    {
      "metadata": {
        "trusted": true
      },
      "cell_type": "code",
      "source": "d = c.split('/')\nprint(d)",
      "execution_count": null,
      "outputs": []
    },
    {
      "metadata": {},
      "cell_type": "markdown",
      "source": "**lower( )** converts any capital letter to small letter."
    },
    {
      "metadata": {
        "trusted": true
      },
      "cell_type": "code",
      "source": "print(String0)\nprint(String0.lower())",
      "execution_count": null,
      "outputs": []
    },
    {
      "metadata": {},
      "cell_type": "markdown",
      "source": "**upper( )** converts any small letter to capital letter."
    },
    {
      "metadata": {
        "trusted": true
      },
      "cell_type": "code",
      "source": "String0.upper()",
      "execution_count": null,
      "outputs": []
    },
    {
      "metadata": {},
      "cell_type": "markdown",
      "source": "**replace( )** function replaces the element with another element."
    },
    {
      "metadata": {
        "trusted": true
      },
      "cell_type": "code",
      "source": "String0.replace('beautiful','bad')",
      "execution_count": null,
      "outputs": []
    },
    {
      "metadata": {},
      "cell_type": "markdown",
      "source": "**strip( )** function is used to delete elements from the right end and the left end which is not required."
    },
    {
      "metadata": {
        "trusted": true
      },
      "cell_type": "code",
      "source": "f = '    hello      '",
      "execution_count": null,
      "outputs": []
    },
    {
      "metadata": {},
      "cell_type": "markdown",
      "source": "If no char is specified then it will delete all the spaces that is present in the right and left hand side of the data."
    },
    {
      "metadata": {
        "trusted": true
      },
      "cell_type": "code",
      "source": "str10 ='    hello'\nstr10.strip()",
      "execution_count": 10,
      "outputs": [
        {
          "output_type": "execute_result",
          "execution_count": 10,
          "data": {
            "text/plain": "'hello'"
          },
          "metadata": {}
        }
      ]
    },
    {
      "metadata": {},
      "cell_type": "markdown",
      "source": "**strip( )** function, when a char is specified then it deletes that char if it is present in the two ends of the specified string."
    },
    {
      "metadata": {
        "trusted": true
      },
      "cell_type": "code",
      "source": "f = '   ***----hello---*******     '",
      "execution_count": null,
      "outputs": []
    },
    {
      "metadata": {
        "trusted": true
      },
      "cell_type": "code",
      "source": "f.strip('*')",
      "execution_count": null,
      "outputs": []
    },
    {
      "metadata": {},
      "cell_type": "markdown",
      "source": "The asterisk had to be deleted but is not. This is because there is a space in both the right and left hand side. So in strip function. The characters need to be inputted in the specific order in which they are present."
    },
    {
      "metadata": {
        "trusted": true
      },
      "cell_type": "code",
      "source": "print(f.strip(' *'))\nprint(f.strip(' *-'))",
      "execution_count": null,
      "outputs": []
    },
    {
      "metadata": {},
      "cell_type": "markdown",
      "source": "**lstrip( )** and **rstrip( )** function have the same functionality as strip function but the only difference is **lstrip( )** deletes only towards the left side and **rstrip( )** towards the right."
    },
    {
      "metadata": {
        "trusted": true
      },
      "cell_type": "code",
      "source": "print(f.lstrip(' *'))\nprint(f.rstrip(' *'))",
      "execution_count": null,
      "outputs": []
    },
    {
      "metadata": {},
      "cell_type": "markdown",
      "source": "## Dictionaries"
    },
    {
      "metadata": {},
      "cell_type": "markdown",
      "source": "Dictionaries are more used like a database because here you can index a particular sequence with your user defined string."
    },
    {
      "metadata": {},
      "cell_type": "markdown",
      "source": "To define a dictionary, equate a variable to { } or dict()"
    },
    {
      "metadata": {
        "trusted": true
      },
      "cell_type": "code",
      "source": "d0 = {}\nd1 = dict()\nprint(type(d0), type(d1))",
      "execution_count": null,
      "outputs": []
    },
    {
      "metadata": {},
      "cell_type": "markdown",
      "source": "Dictionary works somewhat like a list but with an added capability of assigning it's own index style."
    },
    {
      "metadata": {
        "trusted": true
      },
      "cell_type": "code",
      "source": "d0['One'] = 1\nd0['OneTwo'] = 12 \nprint(d0)",
      "execution_count": null,
      "outputs": []
    },
    {
      "metadata": {},
      "cell_type": "markdown",
      "source": "That is how a dictionary looks like. Now you are able to access '1' by the index value set at 'One'"
    },
    {
      "metadata": {
        "trusted": true
      },
      "cell_type": "code",
      "source": "print(d0['One'])",
      "execution_count": null,
      "outputs": []
    },
    {
      "metadata": {},
      "cell_type": "markdown",
      "source": "Two lists which are related can be merged to form a dictionary."
    },
    {
      "metadata": {
        "trusted": true
      },
      "cell_type": "code",
      "source": "names = ['One', 'Two', 'Three', 'Four', 'Five']\nnumbers = [1, 2, 3, 4, 5]",
      "execution_count": null,
      "outputs": []
    },
    {
      "metadata": {},
      "cell_type": "markdown",
      "source": "**zip( )** function is used to combine two lists"
    },
    {
      "metadata": {
        "trusted": true
      },
      "cell_type": "code",
      "source": "d2 = zip(names,numbers)\nd2 = list(d2)\nprint(d2)",
      "execution_count": null,
      "outputs": []
    },
    {
      "metadata": {},
      "cell_type": "markdown",
      "source": "The two lists are combined to form a single list and each elements are clubbed with their respective elements from the other list inside a tuple. Tuples because that is what is assigned and the value should not change.\n\nFurther, To convert the above into a dictionary. **dict( )** function is used."
    },
    {
      "metadata": {
        "trusted": true
      },
      "cell_type": "code",
      "source": "a1 = dict(list(d2))\nprint(a1)",
      "execution_count": null,
      "outputs": []
    },
    {
      "metadata": {},
      "cell_type": "markdown",
      "source": "### Built-in Functions"
    },
    {
      "metadata": {},
      "cell_type": "markdown",
      "source": "**clear( )** function is used to erase the entire database that was created."
    },
    {
      "metadata": {
        "trusted": true
      },
      "cell_type": "code",
      "source": "a1.clear()\nprint(a1)",
      "execution_count": null,
      "outputs": []
    },
    {
      "metadata": {},
      "cell_type": "markdown",
      "source": "Dictionary can also be built using loops."
    },
    {
      "metadata": {
        "trusted": true
      },
      "cell_type": "code",
      "source": "for i in range(len(names)):\n    a1[names[i]] = numbers[i]\nprint(a1)",
      "execution_count": null,
      "outputs": []
    },
    {
      "metadata": {},
      "cell_type": "markdown",
      "source": "**values( )** function returns a list with all the assigned values in the dictionary."
    },
    {
      "metadata": {
        "trusted": true
      },
      "cell_type": "code",
      "source": "a1.values()",
      "execution_count": null,
      "outputs": []
    },
    {
      "metadata": {},
      "cell_type": "markdown",
      "source": "**keys( )** function returns all the index or the keys to which contains the values that it was assigned to."
    },
    {
      "metadata": {
        "trusted": true
      },
      "cell_type": "code",
      "source": "a1.keys()",
      "execution_count": null,
      "outputs": []
    },
    {
      "metadata": {},
      "cell_type": "markdown",
      "source": "**items( )** is returns a list containing both the list but each element in the dictionary is inside a tuple. This is same as the result that was obtained when zip function was used."
    },
    {
      "metadata": {
        "trusted": true
      },
      "cell_type": "code",
      "source": "a1.items()",
      "execution_count": null,
      "outputs": []
    }
  ],
  "metadata": {
    "kernelspec": {
      "name": "python36",
      "display_name": "Python 3.6",
      "language": "python"
    },
    "language_info": {
      "mimetype": "text/x-python",
      "nbconvert_exporter": "python",
      "name": "python",
      "pygments_lexer": "ipython3",
      "version": "3.6.3",
      "file_extension": ".py",
      "codemirror_mode": {
        "version": 3,
        "name": "ipython"
      }
    }
  },
  "nbformat": 4,
  "nbformat_minor": 1
}