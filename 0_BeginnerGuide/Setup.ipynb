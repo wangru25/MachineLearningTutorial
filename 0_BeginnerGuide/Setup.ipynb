{
  "cells": [
    {
      "cell_type": "markdown",
      "metadata": {
        "collapsed": true
      },
      "source": [
        "### Install Anaconda\n",
        "\n",
        "#### Installation:\n",
        "1. Installing on Windows: https://docs.anaconda.com/anaconda/install/windows/\n",
        "2. Installing on MacOS: https://docs.anaconda.com/anaconda/install/mac-os/\n",
        "3. Installing on Linux: https://docs.anaconda.com/anaconda/install/linux/\n",
        "\n",
        "\n",
        "#### Set up environments:\n",
        "Open your terminal and type:\n",
        "\n",
        "```conda create --name ENV```\n",
        "\n",
        "```conda install -n ENV pandas```\n",
        "\n",
        "```conda install -n ENV scikit-learn```\n",
        "\n",
        "```conda install -n ENV -c conda-forge matplotlib```\n",
        "\n",
        "#### Activate environment:\n",
        "```conda activate ENV```\n",
        "\n",
        "#### Deactivate environment:\n",
        "```conda deactivate```"
      ]
    },
    {
      "cell_type": "markdown",
      "metadata": {},
      "source": [
        "### Install Atom/Pycharm/Spyder"
      ]
    },
    {
      "cell_type": "markdown",
      "metadata": {},
      "source": [
        "### Install Pytorch\n",
        "https://pytorch.org/get-started/locally/"
      ]
    }
  ],
  "metadata": {
    "kernelspec": {
      "display_name": "Python 3.6",
      "language": "python",
      "name": "python36"
    },
    "language_info": {
      "codemirror_mode": {
        "name": "ipython",
        "version": 3
      },
      "file_extension": ".py",
      "mimetype": "text/x-python",
      "name": "python",
      "nbconvert_exporter": "python",
      "pygments_lexer": "ipython3",
      "version": "3.6.6"
    }
  },
  "nbformat": 4,
  "nbformat_minor": 2
}
