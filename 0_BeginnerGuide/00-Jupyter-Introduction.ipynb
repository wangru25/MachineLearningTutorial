{
  "cells": [
    {
      "metadata": {},
      "cell_type": "markdown",
      "source": "# Jupyter introduction\nEach cell will have either text format using *Markdown* or python code format\n\nRef: https://notebooks.azure.com/ddnguyen/libraries/CUED-IA-Computing-Michaelmas"
    },
    {
      "metadata": {},
      "cell_type": "markdown",
      "source": "## Useful shortcuts\n\nSee Help/Keyboard shortcust"
    },
    {
      "metadata": {},
      "cell_type": "markdown",
      "source": "## Markdown"
    },
    {
      "metadata": {},
      "cell_type": "markdown",
      "source": "### Headings\n\nUsing Markdown, headings are indicated by '`#`':\n```\n# Top level heading\n```\n# Top level heading\n```\n## Second level heading\n```\n## Second level heading\n```\n### Third level heading\n```\n### Third level heading"
    },
    {
      "metadata": {},
      "cell_type": "markdown",
      "source": "## Text style\n\nThe Markdown input\n```\nOpening passage\n\n`A passage of text`\n\n*Some more text*\n\n**Yet more text**\n\n```\n\nappears as:\n\n\nOpening passage\n\n`A passage of text`\n\n*Some more text*\n\n**Yet more text**"
    },
    {
      "metadata": {},
      "cell_type": "markdown",
      "source": "## LaTeX\n\nMarkdown cells support [LaTeX](https://www.latex-project.org/) syntax for typesetting mathematics. LaTeX is the leading tool for technical documents and presenting mathematics, and it is free.\n\n> Learning LaTeX now is a good investment for later in the Tripos. You might want to try https://www.overleaf.com/ for an online LaTeX environment. Register with your University email address - the University has a subscription.\n\nTo typeset an inline equation, use:\n```\nThe term of interest in this case is $\\exp(-2x) \\sin(3 x^{4})$.\n```\nwhich will appear as:\n\n'The term of interest in this case is $\\exp(-2x) \\sin(\\alpha x^{4})$.'\n\nFor a displayed equation, from\n```\nWe wish to evaluate\n\n$$\nf(x) = \\beta x^{3} \\int_{0}^{2} g(x) \\, dx\n$$\n\nwhen $\\beta = 4$.\n```\nwe get:\n\n'We wish to evaluate\n\n$$\nf(x) = \\beta x^{3} \\int_{0}^{2} g(x) \\, dx\n$$\n\nwhen $\\beta = 4$.'\n\nSearch online to learn the LaTeX commands for different mathematical symbols. If \nyou see an example of mathematical typesetting in a notebook, you can also double-click \nit in a Jupyter environment\nto see the syntax. There\nare lots of examples at https://notebooks.azure.com/library/1A-maths."
    }
  ],
  "metadata": {
    "kernelspec": {
      "name": "python2",
      "display_name": "Python 2",
      "language": "python"
    },
    "language_info": {
      "mimetype": "text/x-python",
      "nbconvert_exporter": "python",
      "name": "python",
      "pygments_lexer": "ipython2",
      "version": "2.7.14",
      "file_extension": ".py",
      "codemirror_mode": {
        "version": 2,
        "name": "ipython"
      }
    }
  },
  "nbformat": 4,
  "nbformat_minor": 1
}